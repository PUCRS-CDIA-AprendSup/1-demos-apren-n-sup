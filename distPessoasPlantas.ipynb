{
  "nbformat": 4,
  "nbformat_minor": 0,
  "metadata": {
    "colab": {
      "provenance": [],
      "authorship_tag": "ABX9TyNc2RchEKolbKmx5fBVp7sY",
      "include_colab_link": true
    },
    "kernelspec": {
      "name": "python3",
      "display_name": "Python 3"
    },
    "language_info": {
      "name": "python"
    }
  },
  "cells": [
    {
      "cell_type": "markdown",
      "metadata": {
        "id": "view-in-github",
        "colab_type": "text"
      },
      "source": [
        "<a href=\"https://colab.research.google.com/github/PUCRS-CDIA-AprendSup/1-medidas-de-distancia/blob/main/distPessoasPlantas.ipynb\" target=\"_parent\"><img src=\"https://colab.research.google.com/assets/colab-badge.svg\" alt=\"Open In Colab\"/></a>"
      ]
    },
    {
      "cell_type": "code",
      "execution_count": 20,
      "metadata": {
        "colab": {
          "base_uri": "https://localhost:8080/"
        },
        "id": "-ZHQEevJaZrD",
        "outputId": "735f52a0-25eb-499b-9f64-6d75a434c1b2"
      },
      "outputs": [
        {
          "output_type": "execute_result",
          "data": {
            "text/plain": [
              "array([[  0.        ,  46.14108798,  76.57675888,  83.09031231,\n",
              "        109.8043715 ,  49.52776999,  41.09744518,  32.63433774,\n",
              "         24.51530134],\n",
              "       [ 46.14108798,   0.        ,  37.        ,  42.20189569,\n",
              "         67.867518  ,  38.18376618,   8.83176087,  14.56021978,\n",
              "         25.8069758 ],\n",
              "       [ 76.57675888,  37.        ,   0.        ,   7.48331477,\n",
              "         33.30165161,  69.97856815,  44.95553359,  50.28916384,\n",
              "         61.16371473],\n",
              "       [ 83.09031231,  42.20189569,   7.48331477,   0.        ,\n",
              "         27.        ,  75.05331438,  50.36864104,  55.90169944,\n",
              "         67.11929678],\n",
              "       [109.8043715 ,  67.867518  ,  33.30165161,  27.        ,\n",
              "          0.        ,  96.92264957,  75.57777451,  82.06095296,\n",
              "         93.08061023],\n",
              "       [ 49.52776999,  38.18376618,  69.97856815,  75.05331438,\n",
              "         96.92264957,   0.        ,  30.09983389,  33.61547263,\n",
              "         29.08607914],\n",
              "       [ 41.09744518,   8.83176087,  44.95553359,  50.36864104,\n",
              "         75.57777451,  30.09983389,   0.        ,   9.69535971,\n",
              "         18.54723699],\n",
              "       [ 32.63433774,  14.56021978,  50.28916384,  55.90169944,\n",
              "         82.06095296,  33.61547263,   9.69535971,   0.        ,\n",
              "         12.08304597],\n",
              "       [ 24.51530134,  25.8069758 ,  61.16371473,  67.11929678,\n",
              "         93.08061023,  29.08607914,  18.54723699,  12.08304597,\n",
              "          0.        ]])"
            ]
          },
          "metadata": {},
          "execution_count": 20
        }
      ],
      "source": [
        "import numpy as np\n",
        "from scipy.spatial import distance\n",
        "\n",
        "# dista = distance.euclidean([ 0, 113, 36], [ 10, 68, 34])\n",
        "# print(dista)\n",
        "\n",
        "pessoas = np.array([[\"Marcos\", 0, 113, 36],\n",
        "                   [\"Ana\", 10, 68, 34],\n",
        "                   [\"Ronaldo\", 2, 41, 10],\n",
        "                   [\"Amanda\", 6, 35, 8],\n",
        "                   [\"Marta\", 4, 9, 1],\n",
        "                   [\"Josias\", 1, 77, 70],\n",
        "                   [\"Rose\", 8, 73, 41],\n",
        "                   [\"Cláudio\", 10, 82, 38],\n",
        "                   [\"Sílvio\", 6, 91, 45],\n",
        "                   ])\n",
        "\n",
        "matDistPes = np.empty((9,9), dtype = float)\n",
        "\n",
        "# print(pessoas[0, 1:4])\n",
        "\n",
        "for l in range(0, 9):\n",
        "    for c in range(0, 9):\n",
        "        matDistPes[l, c] = distance.euclidean([eval(i) for i in pessoas[l, 1:4]], [eval(i) for i in pessoas[c, 1:4]])\n",
        "\n"
      ]
    }
  ]
}