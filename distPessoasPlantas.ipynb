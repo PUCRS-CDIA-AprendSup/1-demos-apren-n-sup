{
  "nbformat": 4,
  "nbformat_minor": 0,
  "metadata": {
    "colab": {
      "provenance": [],
      "authorship_tag": "ABX9TyPKH/0DhZxGX04gWzSl0XNZ",
      "include_colab_link": true
    },
    "kernelspec": {
      "name": "python3",
      "display_name": "Python 3"
    },
    "language_info": {
      "name": "python"
    }
  },
  "cells": [
    {
      "cell_type": "markdown",
      "metadata": {
        "id": "view-in-github",
        "colab_type": "text"
      },
      "source": [
        "<a href=\"https://colab.research.google.com/github/PUCRS-CDIA-AprendSup/1-medidas-de-distancia/blob/main/distPessoasPlantas.ipynb\" target=\"_parent\"><img src=\"https://colab.research.google.com/assets/colab-badge.svg\" alt=\"Open In Colab\"/></a>"
      ]
    },
    {
      "cell_type": "code",
      "execution_count": 30,
      "metadata": {
        "colab": {
          "base_uri": "https://localhost:8080/"
        },
        "id": "-ZHQEevJaZrD",
        "outputId": "2e4e6bf7-2b10-4dd5-f605-62c82a08a333"
      },
      "outputs": [
        {
          "output_type": "stream",
          "name": "stdout",
          "text": [
            "Matriz de Distâncias - Pessoas\n",
            "\t\t Marcos \t\t Ana \t\t Ronaldo \t\t Amanda \t\t Marta \t\t Josias \t\t Rose \t\t Cláudio \t\t Sílvio \t\t \n",
            "\n",
            "Marcos \t\t0.0 \t46.14108798023731 \t76.57675887630658 \t83.09031231136396 \t109.80437149767764 \t49.52776998815917 \t41.09744517606904 \t32.63433774416144 \t24.515301344262525 \t\n",
            "\n",
            "Ana \t\t46.14108798023731 \t0.0 \t37.0 \t42.20189569201838 \t67.86751800382861 \t38.18376618407357 \t8.831760866327848 \t14.560219778561036 \t25.80697580112788 \t\n",
            "\n",
            "Ronaldo \t\t76.57675887630658 \t37.0 \t0.0 \t7.483314773547883 \t33.301651610693426 \t69.97856814768362 \t44.955533585978046 \t50.28916384272063 \t61.163714733492114 \t\n",
            "\n",
            "Amanda \t\t83.09031231136396 \t42.20189569201838 \t7.483314773547883 \t0.0 \t27.0 \t75.05331438384317 \t50.368641037852115 \t55.90169943749474 \t67.11929677819934 \t\n",
            "\n",
            "Marta \t\t109.80437149767764 \t67.86751800382861 \t33.301651610693426 \t27.0 \t0.0 \t96.92264957170744 \t75.57777451076474 \t82.06095295571457 \t93.08061022576076 \t\n",
            "\n",
            "Josias \t\t49.52776998815917 \t38.18376618407357 \t69.97856814768362 \t75.05331438384317 \t96.92264957170744 \t0.0 \t30.099833886584822 \t33.61547262794322 \t29.086079144497972 \t\n",
            "\n",
            "Rose \t\t41.09744517606904 \t8.831760866327848 \t44.955533585978046 \t50.368641037852115 \t75.57777451076474 \t30.099833886584822 \t0.0 \t9.695359714832659 \t18.547236990991408 \t\n",
            "\n",
            "Cláudio \t\t32.63433774416144 \t14.560219778561036 \t50.28916384272063 \t55.90169943749474 \t82.06095295571457 \t33.61547262794322 \t9.695359714832659 \t0.0 \t12.083045973594572 \t\n",
            "\n",
            "Sílvio \t\t24.515301344262525 \t25.80697580112788 \t61.163714733492114 \t67.11929677819934 \t93.08061022576076 \t29.086079144497972 \t18.547236990991408 \t12.083045973594572 \t0.0 \t\n",
            "\n"
          ]
        }
      ],
      "source": [
        "import numpy as np\n",
        "from scipy.spatial import distance\n",
        "\n",
        "# dista = distance.euclidean([ 0, 113, 36], [ 10, 68, 34])\n",
        "# print(dista)\n",
        "\n",
        "pessoas = np.array([[\"Marcos\", 0, 113, 36],\n",
        "                   [\"Ana\", 10, 68, 34],\n",
        "                   [\"Ronaldo\", 2, 41, 10],\n",
        "                   [\"Amanda\", 6, 35, 8],\n",
        "                   [\"Marta\", 4, 9, 1],\n",
        "                   [\"Josias\", 1, 77, 70],\n",
        "                   [\"Rose\", 8, 73, 41],\n",
        "                   [\"Cláudio\", 10, 82, 38],\n",
        "                   [\"Sílvio\", 6, 91, 45],\n",
        "                   ])\n",
        "\n",
        "matDistPes = np.empty((9,9), dtype = float)\n",
        "\n",
        "# print(pessoas[0, 1:4])\n",
        "\n",
        "for l in range(0, 9):\n",
        "    for c in range(0, 9):\n",
        "        matDistPes[l, c] = distance.euclidean([eval(i) for i in pessoas[l, 1:4]], [eval(i) for i in pessoas[c, 1:4]])\n",
        "\n",
        "print(\"Matriz de Distâncias - Pessoas\")\n",
        "\n",
        "print(\"\\t\\t\", end = \" \")\n",
        "for i in range(9):\n",
        "    print(pessoas[i, 0], \"\\t\\t\", end = \" \")\n",
        "\n",
        "print(\"\\n\")\n",
        "for i in range(9):\n",
        "    print(pessoas[i,0], \"\\t\\t\", end = \"\")\n",
        "    for c in range(9):\n",
        "        print(matDistPes[i,c], \"\\t\", end = \"\")\n",
        "    print(\"\\n\")\n",
        "\n"
      ]
    }
  ]
}