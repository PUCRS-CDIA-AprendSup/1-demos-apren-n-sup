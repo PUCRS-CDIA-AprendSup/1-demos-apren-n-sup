{
  "nbformat": 4,
  "nbformat_minor": 0,
  "metadata": {
    "colab": {
      "provenance": [],
      "authorship_tag": "ABX9TyP/si8iVJnvSzTyYcq3hztJ",
      "include_colab_link": true
    },
    "kernelspec": {
      "name": "python3",
      "display_name": "Python 3"
    },
    "language_info": {
      "name": "python"
    }
  },
  "cells": [
    {
      "cell_type": "markdown",
      "metadata": {
        "id": "view-in-github",
        "colab_type": "text"
      },
      "source": [
        "<a href=\"https://colab.research.google.com/github/PUCRS-CDIA-AprendSup/1-medidas-de-distancia/blob/main/distPessoasPlantas.ipynb\" target=\"_parent\"><img src=\"https://colab.research.google.com/assets/colab-badge.svg\" alt=\"Open In Colab\"/></a>"
      ]
    },
    {
      "cell_type": "code",
      "execution_count": 10,
      "metadata": {
        "colab": {
          "base_uri": "https://localhost:8080/"
        },
        "id": "-ZHQEevJaZrD",
        "outputId": "7e83b965-4aba-4edb-a8d3-b06c5db2559d"
      },
      "outputs": [
        {
          "output_type": "stream",
          "name": "stdout",
          "text": [
            "Matriz de Distâncias - Pessoas\n",
            "\t\t Marcos \t\t    Ana \t\t Ronald \t\t Amanda \t\t Marta \t\t Josias \t\t Rose \t\t Cláudi \t\t Sílvio \t\t \n",
            "\n",
            "Marcos \t\t0.00000 \t\t46.14109 \t\t76.57676 \t\t83.09031 \t\t109.80437 \t\t49.52777 \t\t41.09745 \t\t32.63434 \t\t24.51530 \t\t\n",
            "\n",
            "   Ana \t\t46.14109 \t\t0.00000 \t\t37.00000 \t\t42.20190 \t\t67.86752 \t\t38.18377 \t\t8.83176 \t\t14.56022 \t\t25.80698 \t\t\n",
            "\n",
            "Ronald \t\t76.57676 \t\t37.00000 \t\t0.00000 \t\t7.48331 \t\t33.30165 \t\t69.97857 \t\t44.95553 \t\t50.28916 \t\t61.16371 \t\t\n",
            "\n",
            "Amanda \t\t83.09031 \t\t42.20190 \t\t7.48331 \t\t0.00000 \t\t27.00000 \t\t75.05331 \t\t50.36864 \t\t55.90170 \t\t67.11930 \t\t\n",
            "\n",
            "Marta \t\t109.80437 \t\t67.86752 \t\t33.30165 \t\t27.00000 \t\t0.00000 \t\t96.92265 \t\t75.57777 \t\t82.06095 \t\t93.08061 \t\t\n",
            "\n",
            "Josias \t\t49.52777 \t\t38.18377 \t\t69.97857 \t\t75.05331 \t\t96.92265 \t\t0.00000 \t\t30.09983 \t\t33.61547 \t\t29.08608 \t\t\n",
            "\n",
            "Rose \t\t41.09745 \t\t8.83176 \t\t44.95553 \t\t50.36864 \t\t75.57777 \t\t30.09983 \t\t0.00000 \t\t9.69536 \t\t18.54724 \t\t\n",
            "\n",
            "Cláudi \t\t32.63434 \t\t14.56022 \t\t50.28916 \t\t55.90170 \t\t82.06095 \t\t33.61547 \t\t9.69536 \t\t0.00000 \t\t12.08305 \t\t\n",
            "\n",
            "Sílvio \t\t24.51530 \t\t25.80698 \t\t61.16371 \t\t67.11930 \t\t93.08061 \t\t29.08608 \t\t18.54724 \t\t12.08305 \t\t0.00000 \t\t\n",
            "\n"
          ]
        }
      ],
      "source": [
        "import numpy as np\n",
        "from scipy.spatial import distance\n",
        "\n",
        "# dista = distance.euclidean([ 0, 113, 36], [ 10, 68, 34])\n",
        "# print(dista)\n",
        "\n",
        "pessoas = np.array([[\"Marcos\", 0, 113, 36],\n",
        "                   [\"   Ana\", 10, 68, 34],\n",
        "                   [\"Ronald\", 2, 41, 10],\n",
        "                   [\"Amanda\", 6, 35, 8],\n",
        "                   [\"Marta\", 4, 9, 1],\n",
        "                   [\"Josias\", 1, 77, 70],\n",
        "                   [\"Rose\", 8, 73, 41],\n",
        "                   [\"Cláudi\", 10, 82, 38],\n",
        "                   [\"Sílvio\", 6, 91, 45],\n",
        "                   ])\n",
        "\n",
        "matDistPes = np.empty((9,9), dtype = float)\n",
        "\n",
        "# print(pessoas[0, 1:4])\n",
        "\n",
        "for l in range(0, 9):\n",
        "    for c in range(0, 9):\n",
        "        matDistPes[l, c] = distance.euclidean([eval(i) for i in pessoas[l, 1:4]], [eval(i) for i in pessoas[c, 1:4]])\n",
        "\n",
        "print(\"Matriz de Distâncias - Pessoas\")\n",
        "\n",
        "print(\"\\t\\t\", end = \" \")\n",
        "for i in range(9):\n",
        "    print(pessoas[i, 0], \"\\t\\t\", end = \" \")\n",
        "\n",
        "print(\"\\n\")\n",
        "for i in range(9):\n",
        "    print(pessoas[i,0], \"\\t\\t\", end = \"\")\n",
        "    for c in range(9):\n",
        "        print(\"{:.5f}\".format(matDistPes[i,c]), \"\\t\\t\", end = \"\")\n",
        "    print(\"\\n\")\n",
        "\n"
      ]
    }
  ]
}