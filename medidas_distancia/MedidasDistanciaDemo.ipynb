{
  "nbformat": 4,
  "nbformat_minor": 0,
  "metadata": {
    "colab": {
      "provenance": [],
      "toc_visible": true,
      "authorship_tag": "ABX9TyOW4j96joallJIwKCywdmCa",
      "include_colab_link": true
    },
    "kernelspec": {
      "name": "python3",
      "display_name": "Python 3"
    },
    "language_info": {
      "name": "python"
    }
  },
  "cells": [
    {
      "cell_type": "markdown",
      "metadata": {
        "id": "view-in-github",
        "colab_type": "text"
      },
      "source": [
        "<a href=\"https://colab.research.google.com/github/PUCRS-CDIA-AprendSup/1-medidas-de-distancia/blob/main/MedidasDistanciaDemo.ipynb\" target=\"_parent\"><img src=\"https://colab.research.google.com/assets/colab-badge.svg\" alt=\"Open In Colab\"/></a>"
      ]
    },
    {
      "cell_type": "code",
      "execution_count": null,
      "metadata": {
        "id": "6fC_o4pCWcMB",
        "outputId": "1d65e6a9-1a2d-48ca-8323-4a5d3a3cd644",
        "colab": {
          "base_uri": "https://localhost:8080/"
        }
      },
      "outputs": [
        {
          "output_type": "stream",
          "name": "stdout",
          "text": [
            "(1, 2, 3) (4, 5, 6)\n",
            "(1, 1, 1) (10, 10, 10)\n"
          ]
        }
      ],
      "source": [
        "#Definindo os pontos\n",
        "from scipy.spatial import distance\n",
        "\n",
        "point_1 = (1, 2, 3)\n",
        "point_2 = (4, 5, 6)\n",
        "print(point_1, point_2)\n",
        "\n",
        "point_5 = (1, 1, 1)\n",
        "point_6 = (10,10, 10)\n",
        "print(point_5, point_6)\n",
        "\n"
      ]
    },
    {
      "cell_type": "markdown",
      "source": [
        "# Distância Euclidiana\n",
        "\n",
        "$$\n",
        "d = \\sqrt{(p_1 - q_1)^2 + (p_2 - q_2)^2}\n",
        "$$\n",
        "\n",
        "onde\n",
        "\n",
        "$(p_1, p_2)$ são as coordenadas do ponto p;\n",
        "\n",
        "$(q_1, q_2)$ são as coordenadas do ponto q.\n",
        "\n",
        "* Generalizando para um espaço n-dimencional\n",
        "\n",
        "$$\n",
        "D_e = \\sqrt{\\sum_{i=1}^{n}(p_i-q_i)}\n",
        "$$\n",
        "\n"
      ],
      "metadata": {
        "id": "CthEBYBSjinD"
      }
    },
    {
      "cell_type": "code",
      "source": [
        "#Calculando Distância Euclidiana\n",
        "\n",
        "distancia_euclidiana = distance.euclidean(point_1, point_2)\n",
        "print('Dist Eucludiana entre', point_1, 'e', point_2, 'é: ', distancia_euclidiana)\n",
        "\n",
        "distancia_euclidiana = distance.euclidean(point_5, point_6)\n",
        "print('Dist Eucludiana entre', point_5, 'e', point_6, 'é: ', distancia_euclidiana)"
      ],
      "metadata": {
        "id": "LbmSJDcizrWz",
        "outputId": "3360ee4e-7e00-4d4d-edb3-8adda337ff0f",
        "colab": {
          "base_uri": "https://localhost:8080/"
        }
      },
      "execution_count": 15,
      "outputs": [
        {
          "output_type": "stream",
          "name": "stdout",
          "text": [
            "Dist Eucludiana entre (1, 2, 3) e (4, 5, 6) é:  5.196152422706632\n",
            "Dist Eucludiana entre (1, 1, 1) e (10, 10, 10) é:  15.588457268119896\n"
          ]
        }
      ]
    }
  ]
}